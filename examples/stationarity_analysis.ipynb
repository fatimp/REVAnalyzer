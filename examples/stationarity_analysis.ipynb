{
 "cells": [
  {
   "cell_type": "markdown",
   "id": "2b7f32c1",
   "metadata": {},
   "source": [
    "# Example: Stationarity analysis for a given image and vector metric\n",
    "\n",
    "This example shows how to analazy stationarity of image using vector metric."
   ]
  },
  {
   "cell_type": "code",
   "execution_count": 1,
   "id": "19699082",
   "metadata": {},
   "outputs": [],
   "source": [
    "from revanalyzer import REVAnalyzer\n",
    "from revanalyzer.metrics import S2, PoreSize\n",
    "from revanalyzer.vectorizers import CFVectorizer, DirectVectorizer"
   ]
  },
  {
   "cell_type": "code",
   "execution_count": 2,
   "id": "52acd566",
   "metadata": {},
   "outputs": [],
   "source": [
    "#initialization\n",
    "\n",
    "image = 'ceramic300' #binary file of 'uint8' type representing 3D image.\n",
    "size = (300, 300, 300) #size of image in x, y and z directions\n",
    "n_steps = 4 # number of subsamples selection steps\n",
    "sREV_max_step = 3 #maximal step for which stationarity analysis is performed.\n",
    "datadir = 'data' # path to folder containing image, default: None\n",
    "outputdir = 'output' # path to outputfolder containig image, default: 'output'\n",
    "vectorizer = CFVectorizer() #vectorizer initialization\n",
    "metric = S2(vectorizer = vectorizer, n_threads = 32) #metric initialization\n",
    "\n",
    "analyzer = REVAnalyzer(metric = metric, image = image, size = size, n_steps = n_steps, sREV_max_step = sREV_max_step,\n",
    "                       datadir = datadir, outputdir = outputdir)"
   ]
  },
  {
   "cell_type": "code",
   "execution_count": 3,
   "id": "fb04a1a9",
   "metadata": {},
   "outputs": [],
   "source": [
    "#metric generation\n",
    "analyzer.generate()"
   ]
  },
  {
   "cell_type": "code",
   "execution_count": 4,
   "id": "29cd30d1",
   "metadata": {},
   "outputs": [
    {
     "name": "stdout",
     "output_type": "stream",
     "text": [
      "at step  1  maximal distance between subsamples is  0.43679196531163555\n",
      "Image is nonstationary.\n"
     ]
    },
    {
     "data": {
      "text/plain": [
       "False"
      ]
     },
     "execution_count": 4,
     "metadata": {},
     "output_type": "execute_result"
    }
   ],
   "source": [
    "#stationarity analysis\n",
    "analyzer.analyze_stationarity(stationarity_threshold = 0.25)"
   ]
  },
  {
   "cell_type": "code",
   "execution_count": 5,
   "id": "21102afe",
   "metadata": {},
   "outputs": [],
   "source": [
    "#consider another metric\n",
    "vectorizer = DirectVectorizer() \n",
    "metric = PoreSize(vectorizer = vectorizer, n_threads = 32)\n",
    "\n",
    "analyzer = REVAnalyzer(metric = metric, image = image, size = size, n_steps = n_steps, sREV_max_step = sREV_max_step,\n",
    "                       datadir = datadir, outputdir = outputdir)"
   ]
  },
  {
   "cell_type": "code",
   "execution_count": 6,
   "id": "fd646f03",
   "metadata": {},
   "outputs": [
    {
     "name": "stdout",
     "output_type": "stream",
     "text": [
      "at step  1  maximal distance between subsamples is  0.24099278290005566\n",
      "at step  2  maximal distance between subsamples is  0.08672385714451632\n",
      "Image is stationary.\n"
     ]
    },
    {
     "data": {
      "text/plain": [
       "True"
      ]
     },
     "execution_count": 6,
     "metadata": {},
     "output_type": "execute_result"
    }
   ],
   "source": [
    "analyzer.generate()\n",
    "analyzer.analyze_stationarity(stationarity_threshold = 0.25)"
   ]
  }
 ],
 "metadata": {
  "kernelspec": {
   "display_name": "Python 3",
   "language": "python",
   "name": "python3"
  },
  "language_info": {
   "codemirror_mode": {
    "name": "ipython",
    "version": 3
   },
   "file_extension": ".py",
   "mimetype": "text/x-python",
   "name": "python",
   "nbconvert_exporter": "python",
   "pygments_lexer": "ipython3",
   "version": "3.9.5"
  }
 },
 "nbformat": 4,
 "nbformat_minor": 5
}
