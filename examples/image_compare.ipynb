{
 "cells": [
  {
   "cell_type": "markdown",
   "id": "8eafe7c2",
   "metadata": {},
   "source": [
    "# Example: Comparison of two images using vector metric\n",
    "\n",
    "This example shows how to compare two images by computing distance with vector metric.\n"
   ]
  },
  {
   "cell_type": "code",
   "execution_count": 1,
   "id": "38b77456",
   "metadata": {},
   "outputs": [],
   "source": [
    "from revanalyzer import REVAnalyzer\n",
    "from revanalyzer.metrics import S2\n",
    "from revanalyzer.vectorizers import CFVectorizer"
   ]
  },
  {
   "cell_type": "code",
   "execution_count": 2,
   "id": "d8b6e101",
   "metadata": {},
   "outputs": [],
   "source": [
    "#vectorizer inizialization\n",
    "\n",
    "norm = 2 #Eucleadian norm\n",
    "mode = 'all' #all directional CF (in x, y and z) are concatenated in one vector\n",
    "vectorizer = CFVectorizer(norm, mode)"
   ]
  },
  {
   "cell_type": "code",
   "execution_count": 3,
   "id": "d32efdfb",
   "metadata": {},
   "outputs": [],
   "source": [
    "#metric inizialization\n",
    "\n",
    "normalize = True \n",
    "metric = S2(vectorizer, normalize) #metric inizialization"
   ]
  },
  {
   "cell_type": "code",
   "execution_count": 4,
   "id": "74d547ab",
   "metadata": {},
   "outputs": [],
   "source": [
    "#images to compare\n",
    "\n",
    "datadir = 'data'\n",
    "image1 = 'ceramic300'\n",
    "image2 = 'carb300' \n",
    "size1 = (300, 300, 300)\n",
    "size2 = (300, 300, 300)"
   ]
  },
  {
   "cell_type": "code",
   "execution_count": 5,
   "id": "1a6479c6",
   "metadata": {},
   "outputs": [],
   "source": [
    "#analyzers initialization\n",
    "\n",
    "outputdir = 'output' #output for generated data\n",
    "n_steps = 1\n",
    "sREV_max_step = 0\n",
    "analyzer1 = REVAnalyzer(metric = metric, image = image1, size = size1, n_steps = n_steps, \n",
    "                                   sREV_max_step = sREV_max_step, datadir = datadir, outputdir = outputdir)\n",
    "analyzer2 = REVAnalyzer(metric = metric, image = image2, size = size2, n_steps = n_steps, \n",
    "                                   sREV_max_step = sREV_max_step, datadir = datadir, outputdir = outputdir)"
   ]
  },
  {
   "cell_type": "code",
   "execution_count": 6,
   "id": "e74963a9",
   "metadata": {},
   "outputs": [],
   "source": [
    "#metrics generation\n",
    "\n",
    "analyzer1.generate()\n",
    "analyzer2.generate()\n",
    "v1 = analyzer1.read(step = 1)\n",
    "v2 = analyzer2.read(step = 1)"
   ]
  },
  {
   "cell_type": "code",
   "execution_count": 7,
   "id": "21141b84",
   "metadata": {},
   "outputs": [
    {
     "name": "stdout",
     "output_type": "stream",
     "text": [
      "Distance between images in S2 metric:  0.1962100543722754\n"
     ]
    }
   ],
   "source": [
    "#compute distance \n",
    "\n",
    "output = metric.vectorize(v1, v2)\n",
    "result = output[2]\n",
    "print(\"Distance between images in S2 metric: \", result)"
   ]
  },
  {
   "cell_type": "code",
   "execution_count": null,
   "id": "94bd40ba",
   "metadata": {},
   "outputs": [],
   "source": []
  }
 ],
 "metadata": {
  "kernelspec": {
   "display_name": "Python 3",
   "language": "python",
   "name": "python3"
  },
  "language_info": {
   "codemirror_mode": {
    "name": "ipython",
    "version": 3
   },
   "file_extension": ".py",
   "mimetype": "text/x-python",
   "name": "python",
   "nbconvert_exporter": "python",
   "pygments_lexer": "ipython3",
   "version": "3.9.5"
  }
 },
 "nbformat": 4,
 "nbformat_minor": 5
}
