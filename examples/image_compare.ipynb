{
 "cells": [
  {
   "cell_type": "markdown",
   "id": "8eafe7c2",
   "metadata": {},
   "source": [
    "# Example: Comparison of two images using vector metric\n",
    "\n",
    "This example shows how to compare two images by computing distance with vector metric.\n"
   ]
  },
  {
   "cell_type": "code",
   "execution_count": 1,
   "id": "38b77456",
   "metadata": {},
   "outputs": [
    {
     "data": {
      "text/html": [
       "<pre style=\"white-space:pre;overflow-x:auto;line-height:normal;font-family:Menlo,'DejaVu Sans Mono',consolas,'Courier New',monospace\"><span style=\"color: #7fbfbf; text-decoration-color: #7fbfbf\">[13:01:23] </span><span style=\"color: #800000; text-decoration-color: #800000; font-weight: bold\">ERROR   </span> PARDISO solver not installed, run `pip install           <a href=\"file:///home/azubov/miniconda3/lib/python3.9/site-packages/openpnm/utils/_workspace.py\"><span style=\"color: #7f7f7f; text-decoration-color: #7f7f7f\">_workspace.py</span></a><span style=\"color: #7f7f7f; text-decoration-color: #7f7f7f\">:56</span>\n",
       "                    pypardiso`. Otherwise, simulations will be slow. Apple M                 \n",
       "                    chips not supported.                                                     \n",
       "</pre>\n"
      ],
      "text/plain": [
       "\u001b[2;36m[13:01:23]\u001b[0m\u001b[2;36m \u001b[0m\u001b[1;31mERROR   \u001b[0m PARDISO solver not installed, run `pip install           \u001b]8;id=1732096883.4712079-348999;file:///home/azubov/miniconda3/lib/python3.9/site-packages/openpnm/utils/_workspace.py\u001b\\\u001b[2m_workspace.py\u001b[0m\u001b]8;;\u001b\\\u001b[2m:56\u001b[0m\n",
       "                    pypardiso`. Otherwise, simulations will be slow. Apple M                 \n",
       "                    chips not supported.                                                     \n"
      ]
     },
     "metadata": {},
     "output_type": "display_data"
    }
   ],
   "source": [
    "from revanalyzer import REVAnalyzer\n",
    "from revanalyzer.metrics import S2\n",
    "from revanalyzer.vectorizers import CFVectorizer"
   ]
  },
  {
   "cell_type": "code",
   "execution_count": 2,
   "id": "d8b6e101",
   "metadata": {},
   "outputs": [],
   "source": [
    "#vectorizer initialization\n",
    "\n",
    "norm = 2 #Eucleadian norm\n",
    "mode = 'all' #all directional CF (in x, y and z) are concatenated in one vector\n",
    "vectorizer = CFVectorizer(norm = norm, mode = mode)"
   ]
  },
  {
   "cell_type": "code",
   "execution_count": 3,
   "id": "d32efdfb",
   "metadata": {},
   "outputs": [],
   "source": [
    "#metric initialization\n",
    "metric = S2(vectorizer = vectorizer, normalize = True) "
   ]
  },
  {
   "cell_type": "code",
   "execution_count": 4,
   "id": "74d547ab",
   "metadata": {},
   "outputs": [],
   "source": [
    "#images to compare\n",
    "\n",
    "datadir = 'data'\n",
    "image1 = 'ceramic300'\n",
    "image2 = 'carb300' \n",
    "size1 = (300, 300, 300)\n",
    "size2 = (300, 300, 300)"
   ]
  },
  {
   "cell_type": "code",
   "execution_count": 5,
   "id": "1a6479c6",
   "metadata": {},
   "outputs": [],
   "source": [
    "#analyzers initialization\n",
    "\n",
    "outputdir = 'output' #output for generated data\n",
    "n_steps = 1\n",
    "sREV_max_step = 0\n",
    "analyzer1 = REVAnalyzer(metric = metric, image = image1, size = size1, n_steps = n_steps, \n",
    "                                   sREV_max_step = sREV_max_step, datadir = datadir, outputdir = outputdir)\n",
    "analyzer2 = REVAnalyzer(metric = metric, image = image2, size = size2, n_steps = n_steps, \n",
    "                                   sREV_max_step = sREV_max_step, datadir = datadir, outputdir = outputdir)"
   ]
  },
  {
   "cell_type": "code",
   "execution_count": 6,
   "id": "e74963a9",
   "metadata": {},
   "outputs": [],
   "source": [
    "#metrics generation\n",
    "\n",
    "analyzer1.generate()\n",
    "analyzer2.generate()\n",
    "v1 = analyzer1.read(step = 1)\n",
    "v2 = analyzer2.read(step = 1)"
   ]
  },
  {
   "cell_type": "code",
   "execution_count": 7,
   "id": "21141b84",
   "metadata": {},
   "outputs": [
    {
     "name": "stdout",
     "output_type": "stream",
     "text": [
      "Distance between images in S2 metric:  0.1962100543722754\n"
     ]
    }
   ],
   "source": [
    "#compute distance \n",
    "\n",
    "output = metric.vectorize(v1, v2)\n",
    "result = output[2]\n",
    "print(\"Distance between images in S2 metric: \", result)"
   ]
  },
  {
   "cell_type": "code",
   "execution_count": null,
   "id": "94bd40ba",
   "metadata": {},
   "outputs": [],
   "source": []
  }
 ],
 "metadata": {
  "kernelspec": {
   "display_name": "Python 3",
   "language": "python",
   "name": "python3"
  },
  "language_info": {
   "codemirror_mode": {
    "name": "ipython",
    "version": 3
   },
   "file_extension": ".py",
   "mimetype": "text/x-python",
   "name": "python",
   "nbconvert_exporter": "python",
   "pygments_lexer": "ipython3",
   "version": "3.9.5"
  }
 },
 "nbformat": 4,
 "nbformat_minor": 5
}
